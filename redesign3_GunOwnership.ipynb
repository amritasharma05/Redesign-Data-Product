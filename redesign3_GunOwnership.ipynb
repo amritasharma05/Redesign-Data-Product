{
 "cells": [
  {
   "cell_type": "markdown",
   "metadata": {},
   "source": [
    "#### The states with the most guns report the most suicides"
   ]
  },
  {
   "cell_type": "code",
   "execution_count": 112,
   "metadata": {
    "collapsed": false,
    "deletable": true,
    "editable": true
   },
   "outputs": [],
   "source": [
    "from __future__ import print_function\n",
    "import sys\n",
    "import time\n",
    "from ConfigParser import ConfigParser\n",
    "import pandas as pd"
   ]
  },
  {
   "cell_type": "code",
   "execution_count": 113,
   "metadata": {
    "collapsed": false,
    "deletable": true,
    "editable": true
   },
   "outputs": [],
   "source": [
    "df = pd.read_excel(\"GunOwnership_Data.xlsx\")"
   ]
  },
  {
   "cell_type": "code",
   "execution_count": 114,
   "metadata": {
    "collapsed": false,
    "deletable": true,
    "editable": true
   },
   "outputs": [
    {
     "data": {
      "text/html": [
       "<div>\n",
       "<style>\n",
       "    .dataframe thead tr:only-child th {\n",
       "        text-align: right;\n",
       "    }\n",
       "\n",
       "    .dataframe thead th {\n",
       "        text-align: left;\n",
       "    }\n",
       "\n",
       "    .dataframe tbody tr th {\n",
       "        vertical-align: top;\n",
       "    }\n",
       "</style>\n",
       "<table border=\"1\" class=\"dataframe\">\n",
       "  <thead>\n",
       "    <tr style=\"text-align: right;\">\n",
       "      <th></th>\n",
       "      <th>Variable</th>\n",
       "      <th>States with the Highest Rates of Gun Ownership</th>\n",
       "      <th>States with the Lowest Rates of Gun Ownership</th>\n",
       "      <th>Ratio of Mortality Rates</th>\n",
       "    </tr>\n",
       "  </thead>\n",
       "  <tbody>\n",
       "    <tr>\n",
       "      <th>0</th>\n",
       "      <td>Person-years</td>\n",
       "      <td>195 million</td>\n",
       "      <td>200 million</td>\n",
       "      <td>NaN</td>\n",
       "    </tr>\n",
       "    <tr>\n",
       "      <th>1</th>\n",
       "      <td>Percent of households with guns</td>\n",
       "      <td>47</td>\n",
       "      <td>15</td>\n",
       "      <td>NaN</td>\n",
       "    </tr>\n",
       "    <tr>\n",
       "      <th>2</th>\n",
       "      <td>Male</td>\n",
       "      <td>NaN</td>\n",
       "      <td>NaN</td>\n",
       "      <td>NaN</td>\n",
       "    </tr>\n",
       "    <tr>\n",
       "      <th>3</th>\n",
       "      <td>No of firearm suicides</td>\n",
       "      <td>14365</td>\n",
       "      <td>3971</td>\n",
       "      <td>3.7</td>\n",
       "    </tr>\n",
       "    <tr>\n",
       "      <th>4</th>\n",
       "      <td>No of nonfirearm suicides</td>\n",
       "      <td>6573</td>\n",
       "      <td>6781</td>\n",
       "      <td>1.0</td>\n",
       "    </tr>\n",
       "  </tbody>\n",
       "</table>\n",
       "</div>"
      ],
      "text/plain": [
       "                          Variable  \\\n",
       "0                     Person-years   \n",
       "1  Percent of households with guns   \n",
       "2                             Male   \n",
       "3           No of firearm suicides   \n",
       "4        No of nonfirearm suicides   \n",
       "\n",
       "  States with the Highest Rates of Gun Ownership  \\\n",
       "0                                    195 million   \n",
       "1                                             47   \n",
       "2                                            NaN   \n",
       "3                                          14365   \n",
       "4                                           6573   \n",
       "\n",
       "  States with the Lowest Rates of Gun Ownership  Ratio of Mortality Rates  \n",
       "0                                   200 million                       NaN  \n",
       "1                                            15                       NaN  \n",
       "2                                           NaN                       NaN  \n",
       "3                                          3971                       3.7  \n",
       "4                                          6781                       1.0  "
      ]
     },
     "execution_count": 114,
     "metadata": {},
     "output_type": "execute_result"
    }
   ],
   "source": [
    "df.head()"
   ]
  },
  {
   "cell_type": "code",
   "execution_count": 115,
   "metadata": {
    "collapsed": false,
    "deletable": true,
    "editable": true
   },
   "outputs": [
    {
     "data": {
      "text/html": [
       "<div>\n",
       "<style>\n",
       "    .dataframe thead tr:only-child th {\n",
       "        text-align: right;\n",
       "    }\n",
       "\n",
       "    .dataframe thead th {\n",
       "        text-align: left;\n",
       "    }\n",
       "\n",
       "    .dataframe tbody tr th {\n",
       "        vertical-align: top;\n",
       "    }\n",
       "</style>\n",
       "<table border=\"1\" class=\"dataframe\">\n",
       "  <thead>\n",
       "    <tr style=\"text-align: right;\">\n",
       "      <th></th>\n",
       "      <th>Ratio of Mortality Rates</th>\n",
       "    </tr>\n",
       "  </thead>\n",
       "  <tbody>\n",
       "    <tr>\n",
       "      <th>count</th>\n",
       "      <td>6.000000</td>\n",
       "    </tr>\n",
       "    <tr>\n",
       "      <th>mean</th>\n",
       "      <td>2.916667</td>\n",
       "    </tr>\n",
       "    <tr>\n",
       "      <th>std</th>\n",
       "      <td>2.627102</td>\n",
       "    </tr>\n",
       "    <tr>\n",
       "      <th>min</th>\n",
       "      <td>1.000000</td>\n",
       "    </tr>\n",
       "    <tr>\n",
       "      <th>25%</th>\n",
       "      <td>1.275000</td>\n",
       "    </tr>\n",
       "    <tr>\n",
       "      <th>50%</th>\n",
       "      <td>1.900000</td>\n",
       "    </tr>\n",
       "    <tr>\n",
       "      <th>75%</th>\n",
       "      <td>3.275000</td>\n",
       "    </tr>\n",
       "    <tr>\n",
       "      <th>max</th>\n",
       "      <td>7.900000</td>\n",
       "    </tr>\n",
       "  </tbody>\n",
       "</table>\n",
       "</div>"
      ],
      "text/plain": [
       "       Ratio of Mortality Rates\n",
       "count                  6.000000\n",
       "mean                   2.916667\n",
       "std                    2.627102\n",
       "min                    1.000000\n",
       "25%                    1.275000\n",
       "50%                    1.900000\n",
       "75%                    3.275000\n",
       "max                    7.900000"
      ]
     },
     "execution_count": 115,
     "metadata": {},
     "output_type": "execute_result"
    }
   ],
   "source": [
    "df.describe()"
   ]
  },
  {
   "cell_type": "code",
   "execution_count": 116,
   "metadata": {
    "collapsed": false,
    "deletable": true,
    "editable": true
   },
   "outputs": [
    {
     "data": {
      "text/plain": [
       "(10, 4)"
      ]
     },
     "execution_count": 116,
     "metadata": {},
     "output_type": "execute_result"
    }
   ],
   "source": [
    "df.shape"
   ]
  },
  {
   "cell_type": "markdown",
   "metadata": {
    "collapsed": true,
    "deletable": true,
    "editable": true
   },
   "source": [
    "\n",
    "###  The states with the most guns report the most suicides"
   ]
  },
  {
   "cell_type": "code",
   "execution_count": 64,
   "metadata": {
    "collapsed": false
   },
   "outputs": [
    {
     "data": {
      "text/html": [
       "<div>\n",
       "<style>\n",
       "    .dataframe thead tr:only-child th {\n",
       "        text-align: right;\n",
       "    }\n",
       "\n",
       "    .dataframe thead th {\n",
       "        text-align: left;\n",
       "    }\n",
       "\n",
       "    .dataframe tbody tr th {\n",
       "        vertical-align: top;\n",
       "    }\n",
       "</style>\n",
       "<table border=\"1\" class=\"dataframe\">\n",
       "  <thead>\n",
       "    <tr style=\"text-align: right;\">\n",
       "      <th></th>\n",
       "      <th>Variable</th>\n",
       "      <th>States with the Highest Rates of Gun Ownership</th>\n",
       "      <th>States with the Lowest Rates of Gun Ownership</th>\n",
       "      <th>Ratio of Mortality Rates</th>\n",
       "    </tr>\n",
       "  </thead>\n",
       "  <tbody>\n",
       "    <tr>\n",
       "      <th>0</th>\n",
       "      <td>Person-years</td>\n",
       "      <td>195 million</td>\n",
       "      <td>200 million</td>\n",
       "      <td>NaN</td>\n",
       "    </tr>\n",
       "    <tr>\n",
       "      <th>1</th>\n",
       "      <td>Percent of households with guns</td>\n",
       "      <td>47</td>\n",
       "      <td>15</td>\n",
       "      <td>NaN</td>\n",
       "    </tr>\n",
       "    <tr>\n",
       "      <th>2</th>\n",
       "      <td>Male</td>\n",
       "      <td>NaN</td>\n",
       "      <td>NaN</td>\n",
       "      <td>NaN</td>\n",
       "    </tr>\n",
       "    <tr>\n",
       "      <th>3</th>\n",
       "      <td>No of firearm suicides</td>\n",
       "      <td>14365</td>\n",
       "      <td>3971</td>\n",
       "      <td>3.7</td>\n",
       "    </tr>\n",
       "    <tr>\n",
       "      <th>4</th>\n",
       "      <td>No of nonfirearm suicides</td>\n",
       "      <td>6573</td>\n",
       "      <td>6781</td>\n",
       "      <td>1.0</td>\n",
       "    </tr>\n",
       "    <tr>\n",
       "      <th>5</th>\n",
       "      <td>Total No</td>\n",
       "      <td>20938</td>\n",
       "      <td>10752</td>\n",
       "      <td>2.0</td>\n",
       "    </tr>\n",
       "    <tr>\n",
       "      <th>6</th>\n",
       "      <td>Female</td>\n",
       "      <td>NaN</td>\n",
       "      <td>NaN</td>\n",
       "      <td>NaN</td>\n",
       "    </tr>\n",
       "    <tr>\n",
       "      <th>7</th>\n",
       "      <td>No of firearm suicides</td>\n",
       "      <td>2212</td>\n",
       "      <td>286</td>\n",
       "      <td>7.9</td>\n",
       "    </tr>\n",
       "    <tr>\n",
       "      <th>8</th>\n",
       "      <td>No of nonfirearm suicides</td>\n",
       "      <td>2599</td>\n",
       "      <td>2478</td>\n",
       "      <td>1.1</td>\n",
       "    </tr>\n",
       "    <tr>\n",
       "      <th>9</th>\n",
       "      <td>Total No</td>\n",
       "      <td>4811</td>\n",
       "      <td>2764</td>\n",
       "      <td>1.8</td>\n",
       "    </tr>\n",
       "  </tbody>\n",
       "</table>\n",
       "</div>"
      ],
      "text/plain": [
       "                          Variable  \\\n",
       "0                     Person-years   \n",
       "1  Percent of households with guns   \n",
       "2                             Male   \n",
       "3           No of firearm suicides   \n",
       "4        No of nonfirearm suicides   \n",
       "5                         Total No   \n",
       "6                           Female   \n",
       "7           No of firearm suicides   \n",
       "8        No of nonfirearm suicides   \n",
       "9                         Total No   \n",
       "\n",
       "  States with the Highest Rates of Gun Ownership  \\\n",
       "0                                    195 million   \n",
       "1                                             47   \n",
       "2                                            NaN   \n",
       "3                                          14365   \n",
       "4                                           6573   \n",
       "5                                          20938   \n",
       "6                                            NaN   \n",
       "7                                           2212   \n",
       "8                                           2599   \n",
       "9                                           4811   \n",
       "\n",
       "  States with the Lowest Rates of Gun Ownership  Ratio of Mortality Rates  \n",
       "0                                   200 million                       NaN  \n",
       "1                                            15                       NaN  \n",
       "2                                           NaN                       NaN  \n",
       "3                                          3971                       3.7  \n",
       "4                                          6781                       1.0  \n",
       "5                                         10752                       2.0  \n",
       "6                                           NaN                       NaN  \n",
       "7                                           286                       7.9  \n",
       "8                                          2478                       1.1  \n",
       "9                                          2764                       1.8  "
      ]
     },
     "execution_count": 64,
     "metadata": {},
     "output_type": "execute_result"
    }
   ],
   "source": [
    "df"
   ]
  },
  {
   "cell_type": "code",
   "execution_count": 117,
   "metadata": {
    "collapsed": false
   },
   "outputs": [],
   "source": [
    "dfgrp = df.groupby(['Variable']).agg({'States with the Highest Rates of Gun Ownership':'sum','States with the Lowest Rates of Gun Ownership':'sum'})"
   ]
  },
  {
   "cell_type": "code",
   "execution_count": 118,
   "metadata": {
    "collapsed": false
   },
   "outputs": [],
   "source": [
    "df2 =  dfgrp.dropna()"
   ]
  },
  {
   "cell_type": "code",
   "execution_count": 68,
   "metadata": {
    "collapsed": false
   },
   "outputs": [
    {
     "data": {
      "text/html": [
       "<div>\n",
       "<style>\n",
       "    .dataframe thead tr:only-child th {\n",
       "        text-align: right;\n",
       "    }\n",
       "\n",
       "    .dataframe thead th {\n",
       "        text-align: left;\n",
       "    }\n",
       "\n",
       "    .dataframe tbody tr th {\n",
       "        vertical-align: top;\n",
       "    }\n",
       "</style>\n",
       "<table border=\"1\" class=\"dataframe\">\n",
       "  <thead>\n",
       "    <tr style=\"text-align: right;\">\n",
       "      <th></th>\n",
       "      <th>States with the Lowest Rates of Gun Ownership</th>\n",
       "      <th>States with the Highest Rates of Gun Ownership</th>\n",
       "    </tr>\n",
       "    <tr>\n",
       "      <th>Variable</th>\n",
       "      <th></th>\n",
       "      <th></th>\n",
       "    </tr>\n",
       "  </thead>\n",
       "  <tbody>\n",
       "    <tr>\n",
       "      <th>No of firearm suicides</th>\n",
       "      <td>4257</td>\n",
       "      <td>16577</td>\n",
       "    </tr>\n",
       "    <tr>\n",
       "      <th>No of nonfirearm suicides</th>\n",
       "      <td>9259</td>\n",
       "      <td>9172</td>\n",
       "    </tr>\n",
       "    <tr>\n",
       "      <th>Percent of households with guns</th>\n",
       "      <td>15</td>\n",
       "      <td>47</td>\n",
       "    </tr>\n",
       "    <tr>\n",
       "      <th>Person-years</th>\n",
       "      <td>200 million</td>\n",
       "      <td>195 million</td>\n",
       "    </tr>\n",
       "    <tr>\n",
       "      <th>Total No</th>\n",
       "      <td>13516</td>\n",
       "      <td>25749</td>\n",
       "    </tr>\n",
       "  </tbody>\n",
       "</table>\n",
       "</div>"
      ],
      "text/plain": [
       "                                States with the Lowest Rates of Gun Ownership  \\\n",
       "Variable                                                                        \n",
       "No of firearm suicides                                                   4257   \n",
       "No of nonfirearm suicides                                                9259   \n",
       "Percent of households with guns                                            15   \n",
       "Person-years                                                      200 million   \n",
       "Total No                                                                13516   \n",
       "\n",
       "                                States with the Highest Rates of Gun Ownership  \n",
       "Variable                                                                        \n",
       "No of firearm suicides                                                   16577  \n",
       "No of nonfirearm suicides                                                 9172  \n",
       "Percent of households with guns                                             47  \n",
       "Person-years                                                       195 million  \n",
       "Total No                                                                 25749  "
      ]
     },
     "execution_count": 68,
     "metadata": {},
     "output_type": "execute_result"
    }
   ],
   "source": [
    "df2"
   ]
  },
  {
   "cell_type": "code",
   "execution_count": 119,
   "metadata": {
    "collapsed": false
   },
   "outputs": [],
   "source": [
    "dffinal = df2[:2]"
   ]
  },
  {
   "cell_type": "code",
   "execution_count": 120,
   "metadata": {
    "collapsed": false
   },
   "outputs": [
    {
     "data": {
      "text/html": [
       "<div>\n",
       "<style>\n",
       "    .dataframe thead tr:only-child th {\n",
       "        text-align: right;\n",
       "    }\n",
       "\n",
       "    .dataframe thead th {\n",
       "        text-align: left;\n",
       "    }\n",
       "\n",
       "    .dataframe tbody tr th {\n",
       "        vertical-align: top;\n",
       "    }\n",
       "</style>\n",
       "<table border=\"1\" class=\"dataframe\">\n",
       "  <thead>\n",
       "    <tr style=\"text-align: right;\">\n",
       "      <th></th>\n",
       "      <th>States with the Lowest Rates of Gun Ownership</th>\n",
       "      <th>States with the Highest Rates of Gun Ownership</th>\n",
       "    </tr>\n",
       "    <tr>\n",
       "      <th>Variable</th>\n",
       "      <th></th>\n",
       "      <th></th>\n",
       "    </tr>\n",
       "  </thead>\n",
       "  <tbody>\n",
       "    <tr>\n",
       "      <th>No of firearm suicides</th>\n",
       "      <td>4257</td>\n",
       "      <td>16577</td>\n",
       "    </tr>\n",
       "    <tr>\n",
       "      <th>No of nonfirearm suicides</th>\n",
       "      <td>9259</td>\n",
       "      <td>9172</td>\n",
       "    </tr>\n",
       "  </tbody>\n",
       "</table>\n",
       "</div>"
      ],
      "text/plain": [
       "                          States with the Lowest Rates of Gun Ownership  \\\n",
       "Variable                                                                  \n",
       "No of firearm suicides                                             4257   \n",
       "No of nonfirearm suicides                                          9259   \n",
       "\n",
       "                          States with the Highest Rates of Gun Ownership  \n",
       "Variable                                                                  \n",
       "No of firearm suicides                                             16577  \n",
       "No of nonfirearm suicides                                           9172  "
      ]
     },
     "execution_count": 120,
     "metadata": {},
     "output_type": "execute_result"
    }
   ],
   "source": [
    "dffinal"
   ]
  },
  {
   "cell_type": "code",
   "execution_count": 121,
   "metadata": {
    "collapsed": true
   },
   "outputs": [],
   "source": [
    "dffinal.to_csv(\"GunOwnershipGrp.csv\",encoding='utf-8')"
   ]
  }
 ],
 "metadata": {
  "kernelspec": {
   "display_name": "Python 2",
   "language": "python",
   "name": "python2"
  },
  "language_info": {
   "codemirror_mode": {
    "name": "ipython",
    "version": 2
   },
   "file_extension": ".py",
   "mimetype": "text/x-python",
   "name": "python",
   "nbconvert_exporter": "python",
   "pygments_lexer": "ipython2",
   "version": "2.7.13"
  }
 },
 "nbformat": 4,
 "nbformat_minor": 0
}
